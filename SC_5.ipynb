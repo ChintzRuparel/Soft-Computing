{
  "nbformat": 4,
  "nbformat_minor": 0,
  "metadata": {
    "colab": {
      "provenance": [],
      "collapsed_sections": []
    },
    "kernelspec": {
      "name": "python3",
      "display_name": "Python 3"
    },
    "language_info": {
      "name": "python"
    }
  },
  "cells": [
    {
      "cell_type": "code",
      "execution_count": null,
      "metadata": {
        "colab": {
          "base_uri": "https://localhost:8080/"
        },
        "id": "b3-x1085Q0IV",
        "outputId": "80985e7c-0c23-431b-f1da-96436e85b0f9"
      },
      "outputs": [
        {
          "output_type": "stream",
          "name": "stdout",
          "text": [
            "Union:\t\t\t {'x1': 0.3, 'x2': 0.7, 'x3': 1, 'x4': 0.2}\n",
            "Intersection:\t\t {'x1': 0.1, 'x2': 0.4, 'x3': 1, 'x4': 0}\n",
            "Compliment A:\t\t {'x1': 0.9, 'x2': 0.3, 'x3': 0, 'x4': 1}\n",
            "Compliment B:\t\t {'x1': 0.7, 'x2': 0.6, 'x3': 0, 'x4': 0.8}\n",
            "Difference:\t\t {'x1': 0.1, 'x2': 0.6, 'x3': 0, 'x4': 0}\n",
            "Algebraic Product:\t {'x1': 0.0, 'x2': 0.3, 'x3': 1, 'x4': 0.0}\n",
            "Algebraic Sum:\t\t {'x1': 0.4, 'x2': 0.8, 'x3': 1, 'x4': 0.2}\n",
            "Bounded Sum:\t\t {'x1': 0.4, 'x2': 1, 'x3': 1, 'x4': 0.2}\n",
            "Bounded Product:\t {'x1': 0, 'x2': 0.3, 'x3': 0, 'x4': 0}\n"
          ]
        }
      ],
      "source": [
        "\n",
        "A = {\"x1\": 0.1, \"x2\": 0.7, \"x3\": 1, \"x4\": 0}\n",
        "B = {\"x1\": 0.3, \"x2\": 0.4, \"x3\": 1, \"x4\": 0.2}\n",
        "\n",
        "union, intersection, complimentA, complimentB, difference, sum, product, bSum, bDiff = {\n",
        "}, {}, {}, {}, {}, {}, {}, {}, {}\n",
        "\n",
        "for a, b in zip(A, B):\n",
        "    union[a] = max(A[a], B[b])\n",
        "    intersection[a] = min(A[a], B[b])\n",
        "    complimentA[a] = round(1 - A[a], 1)\n",
        "    complimentB[b] = round(1 - B[b], 1)\n",
        "    difference[a] = min(A[a], 1 - B[b])\n",
        "    product[a] = round(A[a] * B[b], 1)\n",
        "    sum[a] = round((A[a] + B[b]) - (A[a] * B[b]), 1)\n",
        "    bSum[a] = min(1, A[a] + B[b])\n",
        "    bDiff[a] = round(max(0, A[a] - B[b]), 1)\n",
        "\n",
        "print(\"Union:\\t\\t\\t\", union)\n",
        "print(\"Intersection:\\t\\t\", intersection)\n",
        "print(\"Compliment A:\\t\\t\", complimentA)\n",
        "print(\"Compliment B:\\t\\t\", complimentB)\n",
        "print(\"Difference:\\t\\t\", difference)\n",
        "print(\"Algebraic Product:\\t\", product)\n",
        "print(\"Algebraic Sum:\\t\\t\", sum)\n",
        "print(\"Bounded Sum:\\t\\t\", bSum)\n",
        "print(\"Bounded Product:\\t\", bDiff)\n"
      ]
    }
  ]
}