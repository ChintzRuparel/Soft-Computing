{
  "nbformat": 4,
  "nbformat_minor": 0,
  "metadata": {
    "colab": {
      "provenance": [],
      "collapsed_sections": []
    },
    "kernelspec": {
      "name": "python3",
      "display_name": "Python 3"
    },
    "language_info": {
      "name": "python"
    }
  },
  "cells": [
    {
      "cell_type": "code",
      "source": [
        "def sigmoid(yin):\n",
        "    if yin<0:\n",
        "        return -1\n",
        "    elif yin>0:\n",
        "        return 1\n",
        "    return 0\n",
        "\n",
        "def updateweights(w,t,input):\n",
        "  wnew=[]\n",
        "  alpha=1\n",
        "  for i in range(3):\n",
        "    wrow=[]\n",
        "    for j in range(3):\n",
        "      wrow.append(w[i][j]+(alpha*t*input[i][j]))\n",
        "    wnew.append(wrow)\n",
        "  return wnew\n",
        "def findifchange(a,b):\n",
        "  for i in range(3):\n",
        "    for j in range(3):\n",
        "      if a[i][j]==b[i][j]:\n",
        "        continue\n",
        "      else:\n",
        "        return 0\n",
        "  return 1\n",
        "def convolution(a,b):\n",
        "  sum=0\n",
        "  for i in range(3):\n",
        "    for j in range(3):\n",
        "      sum+=(a[i][j]*b[i][j])\n",
        "  return sum\n",
        "\n",
        "I=[[1,1,1],[-1,1,-1],[1,1,1]]\n",
        "F=[[1,1,1],[1,1,1],[1,-1,-1]]\n",
        "outputs=[1,-1]\n",
        "inputs=[I,F]\n",
        "w=[[0,0,0],[0,0,0],[0,0,0]]\n",
        "alpha=1\n",
        "bias=0\n",
        "index=0\n",
        "while True:\n",
        "  x=inputs[index%2]\n",
        "  t=outputs[index%2]\n",
        "  index+=1\n",
        "  yin= convolution(w,x)+bias\n",
        "\n",
        "  y=sigmoid(yin)\n",
        "\n",
        "  if y!=t:\n",
        "    wnew=updateweights(w,t,x)\n",
        "    bnew=bias+(alpha*t)\n",
        "  \n",
        "  print(w,wnew,bias,index)\n",
        "\n",
        "  if findifchange(w,wnew)==1:\n",
        "    break\n",
        "\n",
        "  w=wnew\n",
        "  bias=bnew\n",
        "\n",
        "print(w,bias,index)\n",
        "\n"
      ],
      "metadata": {
        "colab": {
          "base_uri": "https://localhost:8080/"
        },
        "id": "sUvVX_DOlUgU",
        "outputId": "c1fc3bdb-dd6b-4ba9-f860-db84b327099d"
      },
      "execution_count": null,
      "outputs": [
        {
          "output_type": "stream",
          "name": "stdout",
          "text": [
            "[[0, 0, 0], [0, 0, 0], [0, 0, 0]] [[1, 1, 1], [-1, 1, -1], [1, 1, 1]] 0 1\n",
            "[[1, 1, 1], [-1, 1, -1], [1, 1, 1]] [[0, 0, 0], [-2, 0, -2], [0, 2, 2]] 1 2\n",
            "[[0, 0, 0], [-2, 0, -2], [0, 2, 2]] [[0, 0, 0], [-2, 0, -2], [0, 2, 2]] 0 3\n",
            "[[0, 0, 0], [-2, 0, -2], [0, 2, 2]] 0 3\n"
          ]
        }
      ]
    }
  ]
}