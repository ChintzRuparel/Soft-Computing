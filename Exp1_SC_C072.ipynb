{
  "cells": [
    {
      "cell_type": "markdown",
      "metadata": {
        "id": "view-in-github",
        "colab_type": "text"
      },
      "source": [
        "<a href=\"https://colab.research.google.com/github/ChintzRuparel/Soft-Computing/blob/main/Exp1_SC_C072.ipynb\" target=\"_parent\"><img src=\"https://colab.research.google.com/assets/colab-badge.svg\" alt=\"Open In Colab\"/></a>"
      ]
    },
    {
      "cell_type": "code",
      "execution_count": null,
      "metadata": {
        "id": "9brrlMLljknO"
      },
      "outputs": [],
      "source": [
        "#OR gate\n",
        "       \n",
        "on = True\n",
        "while on:\n",
        "    x1 = int(input('Enter first input: '))\n",
        "    x2 = int(input('Enter second input: '))\n",
        "    w = 1\n",
        "\n",
        "    yin = (x1 * w) + (x2 * w)\n",
        "\n",
        "    if(x1==1 and x2==1):\n",
        "        tv=1\n",
        "        if yin>=tv:\n",
        "            print('1')\n",
        "        else:\n",
        "            print('0')\n",
        "    elif(x1==0 and x2==1 or x1==1 and x2==0):\n",
        "        tv=1\n",
        "        if yin>=tv:\n",
        "            print('1')\n",
        "        else:\n",
        "            print('0')\n",
        "    else:\n",
        "        print('0')\n"
      ]
    },
    {
      "cell_type": "code",
      "execution_count": null,
      "metadata": {
        "colab": {
          "background_save": true,
          "base_uri": "https://localhost:8080/"
        },
        "id": "CuwMvARWkXqp",
        "outputId": "255d70d9-783c-4a5d-c61f-336277b05084"
      },
      "outputs": [
        {
          "name": "stdout",
          "output_type": "stream",
          "text": [
            "0\n",
            "0\n",
            "1\n",
            "0\n"
          ]
        }
      ],
      "source": [
        "on = True\n",
        "while on:\n",
        "    x1 = int(input('Enter first input: '))\n",
        "    x2 = int(input('Enter second input: '))\n",
        "    w = 1\n",
        "\n",
        "    yin = (x1 * w) + (x2 * w)\n",
        "\n",
        "    if(x1==1 and x2==1):\n",
        "        tv=2\n",
        "        if yin>=tv:\n",
        "            print('1')\n",
        "       \n",
        "    else:\n",
        "        print('0')\n"
      ]
    }
  ],
  "metadata": {
    "colab": {
      "provenance": [],
      "include_colab_link": true
    },
    "kernelspec": {
      "display_name": "Python 3",
      "name": "python3"
    },
    "language_info": {
      "name": "python"
    }
  },
  "nbformat": 4,
  "nbformat_minor": 0
}