{
  "nbformat": 4,
  "nbformat_minor": 0,
  "metadata": {
    "colab": {
      "provenance": [],
      "collapsed_sections": []
    },
    "kernelspec": {
      "name": "python3",
      "display_name": "Python 3"
    },
    "language_info": {
      "name": "python"
    }
  },
  "cells": [
    {
      "cell_type": "code",
      "execution_count": null,
      "metadata": {
        "colab": {
          "base_uri": "https://localhost:8080/"
        },
        "id": "Fs6SEFcqmBUz",
        "outputId": "eb3a683c-e1e4-496b-ebb2-4afd40079efa"
      },
      "outputs": [
        {
          "output_type": "stream",
          "name": "stdout",
          "text": [
            "<=========Min Max Composition=========>\n",
            "0.60\t\t0.50\t\t0.30\t\t\n",
            "0.80\t\t0.40\t\t0.70\t\t\n",
            "\n",
            "\n",
            "<=========Max Product Composition=========>\n",
            "0.60\t\t0.30\t\t0.21\t\t\n",
            "0.72\t\t0.36\t\t0.63\t\t\n"
          ]
        }
      ],
      "source": [
        "A = [\n",
        "    [0.6, 0.3],\n",
        "    [0.2, 0.9],\n",
        "]\n",
        "\n",
        "B = [\n",
        "    [1, 0.8],\n",
        "    [0.5, 0.4],\n",
        "    [0.3, 0.7],\n",
        "]\n",
        "\n",
        "minMax, maxProduct = [], []\n",
        "\n",
        "for i, a in enumerate(A):\n",
        "    tempMM = []\n",
        "    tempMP = []\n",
        "    for j, b in enumerate(B):\n",
        "        # for min max here\n",
        "        tempMM.append(\n",
        "            max(\n",
        "                min(a[0], b[0]),\n",
        "                min(a[1], b[1]),\n",
        "            )\n",
        "        )\n",
        "        # for max product here\n",
        "        tempMP.append(\n",
        "            round(\n",
        "                max(\n",
        "                    (a[0] * b[0]),\n",
        "                    (a[1] * b[1]),\n",
        "                ),\n",
        "                2\n",
        "            )\n",
        "        )\n",
        "    minMax.append(tempMM)\n",
        "    maxProduct.append(tempMP)\n",
        "\n",
        "def printMatrix(matrix):\n",
        "    for r in matrix:\n",
        "        for c in r:\n",
        "            print(format(c, '.2f'), end=\"\\t\\t\")\n",
        "        print()\n",
        "\n",
        "print(\"<=========Min Max Composition=========>\")\n",
        "printMatrix(minMax)\n",
        "\n",
        "print(\"\\n\\n<=========Max Product Composition=========>\")\n",
        "printMatrix(maxProduct)\n"
      ]
    }
  ]
}