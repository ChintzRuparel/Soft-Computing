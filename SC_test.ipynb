{
  "nbformat": 4,
  "nbformat_minor": 0,
  "metadata": {
    "colab": {
      "provenance": [],
      "authorship_tag": "ABX9TyN+OMLXy2JxygoDHkfI2//8",
      "include_colab_link": true
    },
    "kernelspec": {
      "name": "python3",
      "display_name": "Python 3"
    },
    "language_info": {
      "name": "python"
    }
  },
  "cells": [
    {
      "cell_type": "markdown",
      "metadata": {
        "id": "view-in-github",
        "colab_type": "text"
      },
      "source": [
        "<a href=\"https://colab.research.google.com/github/ChintzRuparel/Soft-Computing/blob/main/SC_test.ipynb\" target=\"_parent\"><img src=\"https://colab.research.google.com/assets/colab-badge.svg\" alt=\"Open In Colab\"/></a>"
      ]
    },
    {
      "cell_type": "markdown",
      "source": [
        "##Implementation of Fuzzy Set Operations (Algebraic Sum, Algebraic Product)"
      ],
      "metadata": {
        "id": "h4zzb6iuqowC"
      }
    },
    {
      "cell_type": "code",
      "execution_count": 12,
      "metadata": {
        "colab": {
          "base_uri": "https://localhost:8080/"
        },
        "id": "FnPE-XlHnzKk",
        "outputId": "9cc2050f-a39c-4ce7-bddf-cb6ea8348ac4"
      },
      "outputs": [
        {
          "output_type": "stream",
          "name": "stdout",
          "text": [
            "The Algebraic Product is  {'x1': 0.0, 'x2': 0.4, 'x3': 0.0, 'x4': 0.0}\n",
            "The Algebraic Sum is {'x1': 0.4, 'x2': 0.9, 'x3': 1.0, 'x4': 0.2}\n"
          ]
        }
      ],
      "source": [
        "from traitlets import signature_has_traits\n",
        "\n",
        "import numpy as np \n",
        "\n",
        "import matplotlib.pyplot as plt \n",
        "\n",
        "import pandas as pd \n",
        "\n",
        "\n",
        "A = {\"x1\": 0.12, \"x2\": 0.73, \"x3\": 1.0, \"x4\": 0}\n",
        "B = {\"x1\": 0.30, \"x2\": 0.61, \"x3\": 0, \"x4\": 0.29}\n",
        "sum, product= {},{}\n",
        "\n",
        "for a,b in zip(A, B):\n",
        "  product[a] = round(A[a] * B[b], 1)\n",
        "\n",
        "for a, b in zip(A, B):\n",
        "   sum[a] = round((A[a] + B[b]) - (A[a] * B[b]), 1)\n",
        "   \n",
        "print(\"The Algebraic Product is \", product)\n",
        "\n",
        "\n",
        "\n",
        "print(\"The Algebraic Sum is\", sum)\n",
        "\n"
      ]
    }
  ]
}