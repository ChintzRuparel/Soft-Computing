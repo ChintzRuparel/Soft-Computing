{
  "nbformat": 4,
  "nbformat_minor": 0,
  "metadata": {
    "colab": {
      "name": "Exp1_SC_C086.ipynb",
      "provenance": [],
      "authorship_tag": "ABX9TyP2UET1pRQlYmhsp5XXUc5h",
      "include_colab_link": true
    },
    "kernelspec": {
      "name": "python3",
      "display_name": "Python 3"
    },
    "language_info": {
      "name": "python"
    }
  },
  "cells": [
    {
      "cell_type": "markdown",
      "metadata": {
        "id": "view-in-github",
        "colab_type": "text"
      },
      "source": [
        "<a href=\"https://colab.research.google.com/github/ChintzRuparel/Soft-Computing/blob/main/Exp1_SC_C086.ipynb\" target=\"_parent\"><img src=\"https://colab.research.google.com/assets/colab-badge.svg\" alt=\"Open In Colab\"/></a>"
      ]
    },
    {
      "cell_type": "code",
      "execution_count": null,
      "metadata": {
        "colab": {
          "base_uri": "https://localhost:8080/"
        },
        "id": "qTeT90B9LiZg",
        "outputId": "6157c8f3-0d3e-4046-da1a-5b5a513490bf"
      },
      "outputs": [
        {
          "output_type": "stream",
          "name": "stdout",
          "text": [
            "Enter first input: 1\n",
            "Enter second input: 2\n",
            "0\n",
            "Enter first input: 0\n",
            "Enter second input: 1\n",
            "1\n",
            "Enter first input: 1\n",
            "Enter second input: 0\n",
            "1\n"
          ]
        }
      ],
      "source": [
        "#OR gate\n",
        "       \n",
        "on = True\n",
        "while on:\n",
        "    x1 = int(input('Enter first input: '))\n",
        "    x2 = int(input('Enter second input: '))\n",
        "    w = 1\n",
        "\n",
        "    yin = (x1 * w) + (x2 * w)\n",
        "\n",
        "    if(x1==1 and x2==1):\n",
        "        tv=1\n",
        "        if yin>=tv:\n",
        "            print('1')\n",
        "        else:\n",
        "            print('0')\n",
        "    elif(x1==0 and x2==1 or x1==1 and x2==0):\n",
        "        tv=1\n",
        "        if yin>=tv:\n",
        "            print('1')\n",
        "        else:\n",
        "            print('0')\n",
        "    else:\n",
        "        print('0')\n"
      ]
    },
    {
      "cell_type": "code",
      "source": [
        "on = True\n",
        "while on:\n",
        "    x1 = int(input('Enter first input: '))\n",
        "    x2 = int(input('Enter second input: '))\n",
        "    w = 1\n",
        "\n",
        "    yin = (x1 * w) + (x2 * w)\n",
        "\n",
        "    if(x1==1 and x2==1):\n",
        "        tv=2\n",
        "        if yin>=tv:\n",
        "            print('1')\n",
        "       \n",
        "    else:\n",
        "        print('0')\n"
      ],
      "metadata": {
        "id": "vZK8mq11Lmuh"
      },
      "execution_count": null,
      "outputs": []
    }
  ]
}